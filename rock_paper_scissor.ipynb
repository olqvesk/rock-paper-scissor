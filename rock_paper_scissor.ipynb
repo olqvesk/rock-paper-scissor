{
  "nbformat": 4,
  "nbformat_minor": 0,
  "metadata": {
    "colab": {
      "provenance": []
    },
    "kernelspec": {
      "name": "python3",
      "display_name": "Python 3"
    },
    "language_info": {
      "name": "python"
    }
  },
  "cells": [
    {
      "cell_type": "code",
      "execution_count": null,
      "metadata": {
        "colab": {
          "base_uri": "https://localhost:8080/"
        },
        "id": "wYBMxhaq5NY8",
        "outputId": "e78d9965-f47a-4ab3-d528-05735526cd97"
      },
      "outputs": [
        {
          "output_type": "stream",
          "name": "stdout",
          "text": [
            "2.15.0\n",
            "Downloading data from https://storage.googleapis.com/tensorflow/tf-keras-datasets/mnist.npz\n",
            "11490434/11490434 [==============================] - 1s 0us/step\n",
            "60000\n"
          ]
        }
      ],
      "source": [
        "import tensorflow as tf\n",
        "from tensorflow import keras\n",
        "\n",
        "import numpy as np\n",
        "import matplotlib.pyplot as plt\n",
        "import os\n",
        "\n",
        "\n",
        "print(tf.__version__)   # Tensorflow의 버전을 출력\n",
        "\n",
        "mnist = keras.datasets.mnist\n",
        "\n",
        "# MNIST 데이터를 로드. 다운로드하지 않았다면 다운로드까지 자동으로 진행됩니다.\n",
        "(x_train, y_train), (x_test, y_test) = mnist.load_data()\n",
        "\n",
        "print(len(x_train))  # x_train 배열의 크기를 출력"
      ]
    },
    {
      "cell_type": "code",
      "source": [
        "plt.imshow(x_train[10], cmap=plt.cm.binary)\n",
        "plt.show()"
      ],
      "metadata": {
        "colab": {
          "base_uri": "https://localhost:8080/",
          "height": 430
        },
        "id": "NuXyEq7Q5vVZ",
        "outputId": "f80357b6-d2db-445d-edc9-085834c0935a"
      },
      "execution_count": null,
      "outputs": [
        {
          "output_type": "display_data",
          "data": {
            "text/plain": [
              "<Figure size 640x480 with 1 Axes>"
            ],
            "image/png": "[encoded data removed]"
          },
          "metadata": {}
        }
      ]
    },
    {
      "cell_type": "code",
      "source": [
        "print(x_train.shape)\n",
        "print(x_test.shape)"
      ],
      "metadata": {
        "colab": {
          "base_uri": "https://localhost:8080/"
        },
        "id": "Ct47VNBC6GY7",
        "outputId": "86a6b3b7-96d1-4d75-93bf-bb45b3bc3463"
      },
      "execution_count": null,
      "outputs": [
        {
          "output_type": "stream",
          "name": "stdout",
          "text": [
            "(60000, 28, 28)\n",
            "(10000, 28, 28)\n"
          ]
        }
      ]
    },
    {
      "cell_type": "code",
      "source": [
        "x_train_norm, x_test_norm = x_train / 255.0, x_test / 255.0\n",
        "print('최소값: ', np.min(x_train_norm), '최대값 : ', np.max(x_train_norm))"
      ],
      "metadata": {
        "colab": {
          "base_uri": "https://localhost:8080/"
        },
        "id": "M3beeb_s68gk",
        "outputId": "3f2e3002-2084-46f0-c17b-8c68a1797a6e"
      },
      "execution_count": null,
      "outputs": [
        {
          "output_type": "stream",
          "name": "stdout",
          "text": [
            "최소값:  0.0 최대값 :  1.0\n"
          ]
        }
      ]
    },
    {
      "cell_type": "code",
      "source": [
        "model=keras.models.Sequential()\n",
        "model.add(keras.layers.Conv2D(16, (3,3), activation='relu', input_shape=(28,28,1)))\n",
        "model.add(keras.layers.MaxPool2D(2,2))\n",
        "model.add(keras.layers.Conv2D(32, (3,3), activation='relu'))\n",
        "model.add(keras.layers.MaxPooling2D((2,2)))\n",
        "model.add(keras.layers.Flatten())\n",
        "model.add(keras.layers.Dense(32, activation='relu'))\n",
        "model.add(keras.layers.Dense(10, activation='softmax'))\n",
        "\n",
        "print('Model에 추가된 Layer 개수 : ', len(model.layers))"
      ],
      "metadata": {
        "colab": {
          "base_uri": "https://localhost:8080/"
        },
        "id": "TMDhdfV27-Of",
        "outputId": "b826415a-c1d3-4b35-a4b8-18211079d4fa"
      },
      "execution_count": null,
      "outputs": [
        {
          "output_type": "stream",
          "name": "stdout",
          "text": [
            "Model에 추가된 Layer 개수 :  7\n"
          ]
        }
      ]
    },
    {
      "cell_type": "code",
      "source": [
        "print(\"Before Reshape - x_train_norm shape : {}\".format(x_train_norm.shape))\n",
        "print(\"Before Reshape - x_test_norm shape : {}\".format(x_test_norm.shape))\n",
        "\n",
        "x_train_reshaped = x_train_norm.reshape( -1, 28, 28, 1)\n",
        "x_test_reshaped = x_test_norm.reshape( -1, 28, 28, 1)\n",
        "# 데이터 개수에 -1을 쓰면 reshape시 자동 계산이 된다.\n",
        "\n",
        "print(\"After Reshape - x_train_reshaped shape : {}\".format(x_train_reshaped.shape))\n",
        "print(\"After Reshape - x_test_reshaped shape : {}\".format(x_test_reshaped.shape))"
      ],
      "metadata": {
        "colab": {
          "base_uri": "https://localhost:8080/"
        },
        "id": "RNarNAV-8jda",
        "outputId": "538bfc6d-b5c3-4b39-ecb0-4ea3ccf4fdb9"
      },
      "execution_count": null,
      "outputs": [
        {
          "output_type": "stream",
          "name": "stdout",
          "text": [
            "Before Reshape - x_train_norm shape : (60000, 28, 28)\n",
            "Before Reshape - x_test_norm shape : (10000, 28, 28)\n",
            "After Reshape - x_train_reshaped shape : (60000, 28, 28, 1)\n",
            "After Reshape - x_test_reshaped shape : (10000, 28, 28, 1)\n"
          ]
        }
      ]
    },
    {
      "cell_type": "code",
      "source": [
        "model.compile(optimizer='adam',\n",
        "             loss='sparse_categorical_crossentropy',\n",
        "             metrics=['accuracy'])\n",
        "\n",
        "model.fit(x_train_reshaped, y_train, epochs=20)"
      ],
      "metadata": {
        "colab": {
          "base_uri": "https://localhost:8080/"
        },
        "id": "CsX0eYp48ujE",
        "outputId": "8ba018ef-931d-4bcf-e14e-522dfe2d4522"
      },
      "execution_count": null,
      "outputs": [
        {
          "output_type": "stream",
          "name": "stdout",
          "text": [
            "Epoch 1/20\n",
            "1875/1875 [==============================] - 31s 16ms/step - loss: 0.0123 - accuracy: 0.9955\n",
            "Epoch 2/20\n",
            "1875/1875 [==============================] - 30s 16ms/step - loss: 0.0097 - accuracy: 0.9969\n",
            "Epoch 3/20\n",
            "1875/1875 [==============================] - 30s 16ms/step - loss: 0.0075 - accuracy: 0.9977\n",
            "Epoch 4/20\n",
            "1875/1875 [==============================] - 29s 15ms/step - loss: 0.0083 - accuracy: 0.9970\n",
            "Epoch 5/20\n",
            "1875/1875 [==============================] - 31s 17ms/step - loss: 0.0068 - accuracy: 0.9978\n",
            "Epoch 6/20\n",
            "1875/1875 [==============================] - 30s 16ms/step - loss: 0.0060 - accuracy: 0.9983\n",
            "Epoch 7/20\n",
            "1875/1875 [==============================] - 29s 15ms/step - loss: 0.0053 - accuracy: 0.9981\n",
            "Epoch 8/20\n",
            "1875/1875 [==============================] - 29s 15ms/step - loss: 0.0064 - accuracy: 0.9980\n",
            "Epoch 9/20\n",
            "1875/1875 [==============================] - 30s 16ms/step - loss: 0.0057 - accuracy: 0.9980\n",
            "Epoch 10/20\n",
            "1875/1875 [==============================] - 30s 16ms/step - loss: 0.0042 - accuracy: 0.9987\n",
            "Epoch 11/20\n",
            "1875/1875 [==============================] - 31s 16ms/step - loss: 0.0050 - accuracy: 0.9984\n",
            "Epoch 12/20\n",
            "1875/1875 [==============================] - 30s 16ms/step - loss: 0.0044 - accuracy: 0.9986\n",
            "Epoch 13/20\n",
            "1875/1875 [==============================] - 29s 16ms/step - loss: 0.0037 - accuracy: 0.9987\n",
            "Epoch 14/20\n",
            "1875/1875 [==============================] - 31s 16ms/step - loss: 0.0044 - accuracy: 0.9986\n",
            "Epoch 15/20\n",
            "1875/1875 [==============================] - 29s 15ms/step - loss: 0.0023 - accuracy: 0.9993\n",
            "Epoch 16/20\n",
            "1875/1875 [==============================] - 29s 15ms/step - loss: 0.0047 - accuracy: 0.9984\n",
            "Epoch 17/20\n",
            "1875/1875 [==============================] - 30s 16ms/step - loss: 0.0036 - accuracy: 0.9987\n",
            "Epoch 18/20\n",
            "1875/1875 [==============================] - 29s 15ms/step - loss: 0.0031 - accuracy: 0.9989\n",
            "Epoch 19/20\n",
            "1875/1875 [==============================] - 32s 17ms/step - loss: 0.0040 - accuracy: 0.9988\n",
            "Epoch 20/20\n",
            "1875/1875 [==============================] - 29s 16ms/step - loss: 0.0030 - accuracy: 0.9991\n"
          ]
        },
        {
          "output_type": "execute_result",
          "data": {
            "text/plain": [
              "<keras.src.callbacks.History at 0x7f55ea6c5630>"
            ]
          },
          "metadata": {},
          "execution_count": 11
        }
      ]
    },
    {
      "cell_type": "code",
      "source": [
        "test_loss, test_accuracy = model.evaluate(x_test_reshaped, y_test, verbose=2)\n",
        "print(\"test_loss : {}\".format(test_loss))\n",
        "print(\"test_accuracy : {}\".format(test_accuracy))"
      ],
      "metadata": {
        "colab": {
          "base_uri": "https://localhost:8080/"
        },
        "id": "Jg7MOa7hBQb0",
        "outputId": "130cd2f4-b658-4be2-f570-e28242fe0966"
      },
      "execution_count": null,
      "outputs": [
        {
          "output_type": "stream",
          "name": "stdout",
          "text": [
            "313/313 - 3s - loss: 0.0503 - accuracy: 0.9896 - 3s/epoch - 8ms/step\n",
            "test_loss : 0.050348542630672455\n",
            "test_accuracy : 0.9896000027656555\n"
          ]
        }
      ]
    },
    {
      "cell_type": "code",
      "source": [
        "test_loss, test_accuracy = model.evaluate(x_test_reshaped, y_test, verbose=2)\n",
        "print(\"test_loss : {}\".format(test_loss))\n",
        "print(\"test_accuracy : {}\".format(test_accuracy))"
      ],
      "metadata": {
        "colab": {
          "base_uri": "https://localhost:8080/"
        },
        "id": "LXohI8f3-zOf",
        "outputId": "961ff3f9-46c8-4fc1-8e38-1971878351c1"
      },
      "execution_count": null,
      "outputs": [
        {
          "output_type": "stream",
          "name": "stdout",
          "text": [
            "313/313 - 3s - loss: 0.0422 - accuracy: 0.9869 - 3s/epoch - 8ms/step\n",
            "test_loss : 0.04220985993742943\n",
            "test_accuracy : 0.9868999719619751\n"
          ]
        }
      ]
    },
    {
      "cell_type": "code",
      "source": [
        "from keras.models import load_model  # TensorFlow is required for Keras to work\n",
        "from PIL import Image, ImageOps  # Install pillow instead of PIL\n",
        "import numpy as np\n",
        "\n",
        "# Disable scientific notation for clarity\n",
        "np.set_printoptions(suppress=True)\n",
        "\n",
        "# Load the model\n",
        "model = load_model(\"/content/keras_model.h5\", compile=False)\n",
        "\n",
        "# Load the labels\n",
        "class_names = open(\"/content/labels.txt\", \"r\").readlines()\n",
        "\n",
        "# Create the array of the right shape to feed into the keras model\n",
        "# The 'length' or number of images you can put into the array is\n",
        "# determined by the first position in the shape tuple, in this case 1\n",
        "data = np.ndarray(shape=(1, 224, 224, 3), dtype=np.float32)\n",
        "\n",
        "# Replace this with the path to your image\n",
        "image = Image.open(\"/content/0.jpg\").convert(\"RGB\")\n",
        "\n",
        "# resizing the image to be at least 224x224 and then cropping from the center\n",
        "size = (224, 224)\n",
        "image = ImageOps.fit(image, size, Image.Resampling.LANCZOS)\n",
        "\n",
        "# turn the image into a numpy array\n",
        "image_array = np.asarray(image)\n",
        "\n",
        "# Normalize the image\n",
        "normalized_image_array = (image_array.astype(np.float32) / 127.5) - 1\n",
        "\n",
        "# Load the image into the array\n",
        "data[0] = normalized_image_array\n",
        "\n",
        "# Predicts the model\n",
        "prediction = model.predict(data)\n",
        "index = np.argmax(prediction)\n",
        "class_name = class_names[index]\n",
        "confidence_score = prediction[0][index]\n",
        "\n",
        "# Print prediction and confidence score\n",
        "print(\"Class:\", class_name[2:], end=\"\")\n",
        "print(\"Confidence Score:\", confidence_score)\n"
      ],
      "metadata": {
        "colab": {
          "base_uri": "https://localhost:8080/"
        },
        "id": "tNmWeZSWDHA2",
        "outputId": "dece9035-939c-4767-bcb2-27a03d6d5f28"
      },
      "execution_count": null,
      "outputs": [
        {
          "output_type": "stream",
          "name": "stderr",
          "text": [
            "WARNING:tensorflow:5 out of the last 5 calls to <function Model.make_predict_function.<locals>.predict_function at 0x7f55e115a8c0> triggered tf.function retracing. Tracing is expensive and the excessive number of tracings could be due to (1) creating @tf.function repeatedly in a loop, (2) passing tensors with different shapes, (3) passing Python objects instead of tensors. For (1), please define your @tf.function outside of the loop. For (2), @tf.function has reduce_retracing=True option that can avoid unnecessary retracing. For (3), please refer to https://www.tensorflow.org/guide/function#controlling_retracing and https://www.tensorflow.org/api_docs/python/tf/function for  more details.\n"
          ]
        },
        {
          "output_type": "stream",
          "name": "stdout",
          "text": [
            "1/1 [==============================] - 1s 912ms/step\n",
            "Class: paper\n",
            "Confidence Score: 0.99999666\n"
          ]
        }
      ]
    },
    {
      "cell_type": "code",
      "source": [
        "from keras.models import load_model  # TensorFlow is required for Keras to work\n",
        "from PIL import Image, ImageOps  # Install pillow instead of PIL\n",
        "import numpy as np\n",
        "\n",
        "# Disable scientific notation for clarity\n",
        "np.set_printoptions(suppress=True)\n",
        "\n",
        "# Load the model\n",
        "model = load_model(\"/content/keras_model.h5\", compile=False)\n",
        "\n",
        "# Load the labels\n",
        "class_names = open(\"/content/labels.txt\", \"r\").readlines()\n",
        "\n",
        "# Create the array of the right shape to feed into the keras model\n",
        "# The 'length' or number of images you can put into the array is\n",
        "# determined by the first position in the shape tuple, in this case 1\n",
        "data = np.ndarray(shape=(1, 224, 224, 3), dtype=np.float32)\n",
        "\n",
        "# Replace this with the path to your image\n",
        "image = Image.open(\"/content/3.jpg\").convert(\"RGB\")\n",
        "\n",
        "# resizing the image to be at least 224x224 and then cropping from the center\n",
        "size = (224, 224)\n",
        "image = ImageOps.fit(image, size, Image.Resampling.LANCZOS)\n",
        "\n",
        "# turn the image into a numpy array\n",
        "image_array = np.asarray(image)\n",
        "\n",
        "# Normalize the image\n",
        "normalized_image_array = (image_array.astype(np.float32) / 127.5) - 1\n",
        "\n",
        "# Load the image into the array\n",
        "data[0] = normalized_image_array\n",
        "\n",
        "# Predicts the model\n",
        "prediction = model.predict(data)\n",
        "index = np.argmax(prediction)\n",
        "class_name = class_names[index]\n",
        "confidence_score = prediction[0][index]\n",
        "\n",
        "# Print prediction and confidence score\n",
        "print(\"Class:\", class_name[2:], end=\"\")\n",
        "print(\"Confidence Score:\", confidence_score)\n"
      ],
      "metadata": {
        "colab": {
          "base_uri": "https://localhost:8080/"
        },
        "id": "yHqoKLPRHVOi",
        "outputId": "309da60a-20fb-43b0-fe1c-b50fddebbdcc"
      },
      "execution_count": null,
      "outputs": [
        {
          "output_type": "stream",
          "name": "stdout",
          "text": [
            "1/1 [==============================] - 1s 908ms/step\n",
            "Class: paper\n",
            "Confidence Score: 0.9378835\n"
          ]
        }
      ]
    },
    {
      "cell_type": "code",
      "source": [
        "from keras.models import load_model  # TensorFlow is required for Keras to work\n",
        "import cv2  # Install opencv-python\n",
        "import numpy as np\n",
        "\n",
        "# Disable scientific notation for clarity\n",
        "np.set_printoptions(suppress=True)\n",
        "\n",
        "# Load the model\n",
        "model = load_model(\"/content/keras_model.h5\", compile=False)\n",
        "\n",
        "# Load the labels\n",
        "class_names = open(\"/content/labels.txt\", \"r\").readlines()\n",
        "\n",
        "# CAMERA can be 0 or 1 based on default camera of your computer\n",
        "camera = cv2.VideoCapture(0)\n",
        "\n",
        "while True:\n",
        "    # Grab the webcamera's image.\n",
        "    ret, image = camera.read()\n",
        "\n",
        "    print(image.shape)\n",
        "    camera.release() # rele\n",
        "\n",
        "\n",
        "    # Resize the raw image into (224-height,224-width) pixels\n",
        "    image = cv2.resize(image, (224, 224), interpolation=cv2.INTER_AREA)\n",
        "\n",
        "    # Show the image in a window\n",
        "    cv2.imshow(\"Webcam Image\", image)\n",
        "\n",
        "    # Make the image a numpy array and reshape it to the models input shape.\n",
        "    image = np.asarray(image, dtype=np.float32).reshape(1, 224, 224, 3)\n",
        "\n",
        "    # Normalize the image array\n",
        "    image = (image / 127.5) - 1\n",
        "\n",
        "    # Predicts the model\n",
        "    prediction = model.predict(image)\n",
        "    index = np.argmax(prediction)\n",
        "    class_name = class_names[index]\n",
        "    confidence_score = prediction[0][index]\n",
        "\n",
        "    # Print prediction and confidence score\n",
        "    print(\"Class:\", class_name[2:], end=\"\")\n",
        "    print(\"Confidence Score:\", str(np.round(confidence_score * 100))[:-2], \"%\")\n",
        "\n",
        "    # Listen to the keyboard for presses.\n",
        "    keyboard_input = cv2.waitKey(1)\n",
        "\n",
        "    # 27 is the ASCII for the esc key on your keyboard.\n",
        "    if keyboard_input == 27:\n",
        "        break\n",
        "\n",
        "camera.release()\n",
        "cv2.destroyAllWindows()\n"
      ],
      "metadata": {
        "colab": {
          "base_uri": "https://localhost:8080/",
          "height": 216
        },
        "id": "Oyh9C00gHhDi",
        "outputId": "7218954e-0bc4-44f9-8d4d-21ecf83d8754"
      },
      "execution_count": null,
      "outputs": [
        {
          "output_type": "error",
          "ename": "AttributeError",
          "evalue": "'NoneType' object has no attribute 'shape'",
          "traceback": [
            "\u001b[0;31m---------------------------------------------------------------------------\u001b[0m",
            "\u001b[0;31mAttributeError\u001b[0m                            Traceback (most recent call last)",
            "\u001b[0;32m<ipython-input-3-72038dafb2dd>\u001b[0m in \u001b[0;36m<cell line: 17>\u001b[0;34m()\u001b[0m\n\u001b[1;32m     20\u001b[0m \u001b[0;34m\u001b[0m\u001b[0m\n\u001b[1;32m     21\u001b[0m \u001b[0;34m\u001b[0m\u001b[0m\n\u001b[0;32m---> 22\u001b[0;31m     \u001b[0mprint\u001b[0m\u001b[0;34m(\u001b[0m\u001b[0mimage\u001b[0m\u001b[0;34m.\u001b[0m\u001b[0mshape\u001b[0m\u001b[0;34m)\u001b[0m\u001b[0;34m\u001b[0m\u001b[0;34m\u001b[0m\u001b[0m\n\u001b[0m\u001b[1;32m     23\u001b[0m     \u001b[0mcamera\u001b[0m\u001b[0;34m.\u001b[0m\u001b[0mrelease\u001b[0m\u001b[0;34m(\u001b[0m\u001b[0;34m)\u001b[0m \u001b[0;31m# rele\u001b[0m\u001b[0;34m\u001b[0m\u001b[0;34m\u001b[0m\u001b[0m\n\u001b[1;32m     24\u001b[0m \u001b[0;34m\u001b[0m\u001b[0m\n",
            "\u001b[0;31mAttributeError\u001b[0m: 'NoneType' object has no attribute 'shape'"
          ]
        }
      ]
    },
    {
      "cell_type": "code",
      "source": [
        "from PIL import Image\n",
        "import glob\n",
        "\n",
        "# /content/rock\n",
        "def resize_images(img_path):\n",
        "\timages=glob.glob(\"/content/\"+img_path + \"/*.jpg\")\n",
        "\n",
        "\tprint(len(images), \" images to be resized.\")\n",
        "\n",
        "    # 파일마다 모두 28x28 사이즈로 바꾸어 저장합니다.\n",
        "\ttarget_size=(28,28)\n",
        "\tfor img in images:\n",
        "\t\told_img=Image.open(img)\n",
        "\t\tnew_img=old_img.resize(target_size,Image.ANTIALIAS)\n",
        "\t\tnew_img.save(img, \"JPEG\")\n",
        "\n",
        "\tprint(len(images), \" images resized.\")\n",
        "\n",
        "# 가위 이미지가 저장된 디렉토리 아래의 모든 jpg 파일을 읽어들여서\n",
        "image_dir_path = \"scissor\"\n",
        "resize_images(image_dir_path)\n",
        "\n",
        "print(\"가위 이미지 resize 완료!\")"
      ],
      "metadata": {
        "id": "KB89ozKvMGyP",
        "colab": {
          "base_uri": "https://localhost:8080/"
        },
        "outputId": "a905274c-39a0-4c99-a5f8-e66278e0112f"
      },
      "execution_count": null,
      "outputs": [
        {
          "output_type": "stream",
          "name": "stdout",
          "text": [
            "255  images to be resized.\n"
          ]
        },
        {
          "output_type": "stream",
          "name": "stderr",
          "text": [
            "<ipython-input-1-91559aa8f0ba>:14: DeprecationWarning: ANTIALIAS is deprecated and will be removed in Pillow 10 (2023-07-01). Use LANCZOS or Resampling.LANCZOS instead.\n",
            "  new_img=old_img.resize(target_size,Image.ANTIALIAS)\n"
          ]
        },
        {
          "output_type": "stream",
          "name": "stdout",
          "text": [
            "255  images resized.\n",
            "가위 이미지 resize 완료!\n"
          ]
        }
      ]
    },
    {
      "cell_type": "code",
      "source": [
        "image_dir_path = \"rock\"\n",
        "resize_images(image_dir_path)\n",
        "\n",
        "image_dir_path = \"paper\"\n",
        "resize_images(image_dir_path)"
      ],
      "metadata": {
        "colab": {
          "base_uri": "https://localhost:8080/"
        },
        "id": "V_Up7bqyPd6l",
        "outputId": "e33b3cad-adcc-4394-86a4-b09d9401758a"
      },
      "execution_count": null,
      "outputs": [
        {
          "output_type": "stream",
          "name": "stdout",
          "text": [
            "219  images to be resized.\n"
          ]
        },
        {
          "output_type": "stream",
          "name": "stderr",
          "text": [
            "<ipython-input-1-91559aa8f0ba>:14: DeprecationWarning: ANTIALIAS is deprecated and will be removed in Pillow 10 (2023-07-01). Use LANCZOS or Resampling.LANCZOS instead.\n",
            "  new_img=old_img.resize(target_size,Image.ANTIALIAS)\n"
          ]
        },
        {
          "output_type": "stream",
          "name": "stdout",
          "text": [
            "219  images resized.\n",
            "224  images to be resized.\n",
            "224  images resized.\n"
          ]
        }
      ]
    },
    {
      "cell_type": "code",
      "source": [
        "import numpy as np\n",
        "import os\n",
        "import matplotlib.pyplot as plt\n",
        "\n",
        "def load_data(img_path, number_of_data=698):  # 가위바위보 이미지 개수 총합에 주의하세요.\n",
        "    # 가위 : 0, 바위 : 1, 보 : 2\n",
        "    img_size=28\n",
        "    color=3\n",
        "    #이미지 데이터와 라벨(가위 : 0, 바위 : 1, 보 : 2) 데이터를 담을 행렬(matrix) 영역을 생성합니다.\n",
        "    imgs=np.zeros(number_of_data*img_size*img_size*color,dtype=np.int32).reshape(number_of_data,img_size,img_size,color)\n",
        "    labels=np.zeros(number_of_data,dtype=np.int32)\n",
        "\n",
        "    idx=0\n",
        "    for file in glob.iglob(img_path+'/scissor/*.jpg'):\n",
        "        img = np.array(Image.open(file),dtype=np.int32)\n",
        "        imgs[idx,:,:,:]=img    # 데이터 영역에 이미지 행렬을 복사\n",
        "        labels[idx]=0   # 가위 : 0\n",
        "        idx=idx+1\n",
        "\n",
        "    for file in glob.iglob(img_path+'/rock/*.jpg'):\n",
        "        img = np.array(Image.open(file),dtype=np.int32)\n",
        "        imgs[idx,:,:,:]=img    # 데이터 영역에 이미지 행렬을 복사\n",
        "        labels[idx]=1   # 바위 : 1\n",
        "        idx=idx+1\n",
        "\n",
        "    for file in glob.iglob(img_path+'/paper/*.jpg'):\n",
        "        img = np.array(Image.open(file),dtype=np.int32)\n",
        "        imgs[idx,:,:,:]=img    # 데이터 영역에 이미지 행렬을 복사\n",
        "        labels[idx]=2   # 보 : 2\n",
        "        idx=idx+1\n",
        "\n",
        "    print(\"학습데이터(x_train)의 이미지 개수는\", idx,\"입니다.\")\n",
        "    return imgs, labels\n",
        "\n",
        "image_dir_path = \"/content/r_s_p\" #폴더명\n",
        "(x_train, y_train)=load_data(image_dir_path)\n",
        "x_train_norm = x_train/255.0   # 입력은 0~1 사이의 값으로 정규화\n",
        "\n",
        "print(\"x_train shape: {}\".format(x_train.shape))\n",
        "print(\"y_train shape: {}\".format(y_train.shape))\n"
      ],
      "metadata": {
        "colab": {
          "base_uri": "https://localhost:8080/"
        },
        "id": "kYQ5jNc-PhFE",
        "outputId": "b721930f-f6b9-4e55-b881-4f0c3c3f21e0"
      },
      "execution_count": null,
      "outputs": [
        {
          "output_type": "stream",
          "name": "stdout",
          "text": [
            "학습데이터(x_train)의 이미지 개수는 698 입니다.\n",
            "x_train shape: (698, 28, 28, 3)\n",
            "y_train shape: (698,)\n"
          ]
        }
      ]
    },
    {
      "cell_type": "code",
      "source": [
        "plt.imshow(x_train[0])\n",
        "print('라벨 : ', y_train[0])"
      ],
      "metadata": {
        "colab": {
          "base_uri": "https://localhost:8080/",
          "height": 448
        },
        "id": "66b1BX4G3LbE",
        "outputId": "f6b224c7-5e47-421a-e471-fcfdf8ebb914"
      },
      "execution_count": null,
      "outputs": [
        {
          "output_type": "stream",
          "name": "stdout",
          "text": [
            "라벨 :  0\n"
          ]
        },
        {
          "output_type": "display_data",
          "data": {
            "text/plain": [
              "<Figure size 640x480 with 1 Axes>"
            ],
            "image/png": "[encoded data removed]"
          },
          "metadata": {}
        }
      ]
    },
    {
      "cell_type": "code",
      "source": [
        "import tensorflow as tf\n",
        "from tensorflow import keras\n",
        "import numpy as np\n",
        "\n",
        "model=keras.models.Sequential()\n",
        "model.add(keras.layers.Conv2D(32, (3,3), activation='relu', input_shape=(28,28,3)))\n",
        "model.add(keras.layers.MaxPool2D(2,2))\n",
        "model.add(keras.layers.Conv2D(64, (3,3), activation='relu'))\n",
        "model.add(keras.layers.MaxPooling2D((2,2)))\n",
        "model.add(keras.layers.Flatten())\n",
        "model.add(keras.layers.Dense(128, activation='relu'))\n",
        "model.add(keras.layers.Dense(3, activation='softmax'))\n",
        "\n",
        "model.summary()"
      ],
      "metadata": {
        "colab": {
          "base_uri": "https://localhost:8080/"
        },
        "id": "xZW51rku4q63",
        "outputId": "b1de67ab-7cef-4e01-d243-281ce8281f56"
      },
      "execution_count": null,
      "outputs": [
        {
          "output_type": "stream",
          "name": "stdout",
          "text": [
            "Model: \"sequential\"\n",
            "_________________________________________________________________\n",
            " Layer (type)                Output Shape              Param #   \n",
            "=================================================================\n",
            " conv2d (Conv2D)             (None, 26, 26, 32)        896       \n",
            "                                                                 \n",
            " max_pooling2d (MaxPooling2  (None, 13, 13, 32)        0         \n",
            " D)                                                              \n",
            "                                                                 \n",
            " conv2d_1 (Conv2D)           (None, 11, 11, 64)        18496     \n",
            "                                                                 \n",
            " max_pooling2d_1 (MaxPoolin  (None, 5, 5, 64)          0         \n",
            " g2D)                                                            \n",
            "                                                                 \n",
            " flatten (Flatten)           (None, 1600)              0         \n",
            "                                                                 \n",
            " dense (Dense)               (None, 128)               204928    \n",
            "                                                                 \n",
            " dense_1 (Dense)             (None, 3)                 387       \n",
            "                                                                 \n",
            "=================================================================\n",
            "Total params: 224707 (877.76 KB)\n",
            "Trainable params: 224707 (877.76 KB)\n",
            "Non-trainable params: 0 (0.00 Byte)\n",
            "_________________________________________________________________\n"
          ]
        }
      ]
    },
    {
      "cell_type": "code",
      "source": [
        "model.compile(optimizer='adam',\n",
        "             loss='sparse_categorical_crossentropy',\n",
        "             metrics=['accuracy'])\n",
        "\n",
        "model.fit(x_train_norm, y_train, epochs=10)"
      ],
      "metadata": {
        "colab": {
          "base_uri": "https://localhost:8080/"
        },
        "id": "ZK2iFpp64zR0",
        "outputId": "69d49507-49a5-4f7b-81c7-2d707c9c16ee"
      },
      "execution_count": null,
      "outputs": [
        {
          "output_type": "stream",
          "name": "stdout",
          "text": [
            "Epoch 1/10\n",
            "22/22 [==============================] - 2s 26ms/step - loss: 1.2191 - accuracy: 0.4971\n",
            "Epoch 2/10\n",
            "22/22 [==============================] - 1s 27ms/step - loss: 0.6521 - accuracy: 0.7407\n",
            "Epoch 3/10\n",
            "22/22 [==============================] - 1s 26ms/step - loss: 0.3286 - accuracy: 0.9169\n",
            "Epoch 4/10\n",
            "22/22 [==============================] - 1s 26ms/step - loss: 0.1697 - accuracy: 0.9556\n",
            "Epoch 5/10\n",
            "22/22 [==============================] - 1s 26ms/step - loss: 0.0863 - accuracy: 0.9814\n",
            "Epoch 6/10\n",
            "22/22 [==============================] - 1s 26ms/step - loss: 0.0487 - accuracy: 0.9943\n",
            "Epoch 7/10\n",
            "22/22 [==============================] - 1s 25ms/step - loss: 0.0280 - accuracy: 0.9986\n",
            "Epoch 8/10\n",
            "22/22 [==============================] - 1s 25ms/step - loss: 0.0199 - accuracy: 0.9971\n",
            "Epoch 9/10\n",
            "22/22 [==============================] - 1s 27ms/step - loss: 0.0112 - accuracy: 0.9986\n",
            "Epoch 10/10\n",
            "22/22 [==============================] - 1s 26ms/step - loss: 0.0063 - accuracy: 1.0000\n"
          ]
        },
        {
          "output_type": "execute_result",
          "data": {
            "text/plain": [
              "<keras.src.callbacks.History at 0x7835215e5c30>"
            ]
          },
          "metadata": {},
          "execution_count": 10
        }
      ]
    },
    {
      "cell_type": "code",
      "source": [
        "image_dir_path = \"content/r_s_p/test\"\n",
        "(x_test, y_test)=load_data(image_dir_path)\n",
        "x_test_norm = x_test/255.0\n",
        "\n",
        "print(\"x_test shape : {}\".format(x_test.shape))\n",
        "print(\"y_test shape : {}\".format(y_test.shape))"
      ],
      "metadata": {
        "colab": {
          "base_uri": "https://localhost:8080/"
        },
        "id": "8Oa4tqWx5CKZ",
        "outputId": "ed5be639-5c0f-40a3-89f0-504245d1a355"
      },
      "execution_count": null,
      "outputs": [
        {
          "output_type": "stream",
          "name": "stdout",
          "text": [
            "학습데이터(x_train)의 이미지 개수는 0 입니다.\n",
            "x_test shape : (698, 28, 28, 3)\n",
            "y_test shape : (698,)\n"
          ]
        }
      ]
    },
    {
      "cell_type": "code",
      "source": [
        "test_loss, test_accuracy = model.evaluate(x_test_norm, y_test, verbose=2)\n",
        "print(\"test_loss : {}\".format(test_loss))\n",
        "print(\"test_accuracy : {}\".format(test_accuracy))"
      ],
      "metadata": {
        "id": "pBf4aSZl5LWo"
      },
      "execution_count": null,
      "outputs": []
    },
    {
      "cell_type": "code",
      "source": [
        "predicted_result = model.predict(x_test_norm)\t# model이 추론한 확률값\n",
        "predicted_labels = np.argmax(predicted_result, axis=1)\n",
        "\n",
        "idx=600\t\t# 값을 변경해서 찾아보자\n",
        "print('model.predict() 결과 : ', predicted_result[idx])\n",
        "print('model이 추론한 가장 가능성이 높은 결과 : ', predicted_labels[idx])\n",
        "print('실제 데이터의 라벨 : ', y_test[idx])"
      ],
      "metadata": {
        "id": "wZkKSmpb5SfX"
      },
      "execution_count": null,
      "outputs": []
    },
    {
      "cell_type": "code",
      "source": [
        "plt.imshow(x_test[idx], cmap=plt.cm.binary)\n",
        "plt.show()"
      ],
      "metadata": {
        "id": "yTKkmkmD5TSa"
      },
      "execution_count": null,
      "outputs": []
    },
    {
      "cell_type": "code",
      "source": [
        "from IPython.display import display, Javascript, Image\n",
        "from google.colab.output import eval_js\n",
        "from base64 import b64decode\n",
        "\n",
        "def take_photo(filename='photo.jpg', quality=0.8):\n",
        "  js = Javascript('''\n",
        "    async function takePhoto(quality) {\n",
        "      const div = document.createElement('div');\n",
        "      const capture = document.createElement('button');\n",
        "      capture.textContent = 'Capture';\n",
        "      div.appendChild(capture);\n",
        "\n",
        "      const video = document.createElement('video');\n",
        "      video.style.display = 'block';\n",
        "      const stream = await navigator.mediaDevices.getUserMedia({video: true});\n",
        "\n",
        "      document.body.appendChild(div);\n",
        "      div.appendChild(video);\n",
        "      video.srcObject = stream;\n",
        "      await video.play();\n",
        "\n",
        "      // Resize the output to fit the video element.\n",
        "      google.colab.output.setIframeHeight(document.documentElement.scrollHeight, true);\n",
        "\n",
        "      // Wait for Capture to be clicked.\n",
        "      await new Promise((resolve) => capture.onclick = resolve);\n",
        "\n",
        "      const canvas = document.createElement('canvas');\n",
        "      canvas.width = video.videoWidth;\n",
        "      canvas.height = video.videoHeight;\n",
        "      canvas.getContext('2d').drawImage(video, 0, 0);\n",
        "      stream.getVideoTracks()[0].stop();\n",
        "      div.remove();\n",
        "      return canvas.toDataURL('image/jpeg', quality);\n",
        "    }\n",
        "    ''')\n",
        "  display(js)\n",
        "  data = eval_js('takePhoto({})'.format(quality))\n",
        "  binary = b64decode(data.split(',')[1])\n",
        "  with open(filename, 'wb') as f:\n",
        "    f.write(binary)\n",
        "  return filename\n",
        "\n",
        "# Use the function\n",
        "from keras.models import load_model\n",
        "import cv2\n",
        "import numpy as np\n",
        "\n",
        "# Load the model and labels\n",
        "model = load_model(\"/content/keras_model.h5\", compile=False)\n",
        "class_names = open(\"/content/labels.txt\", \"r\").readlines()\n",
        "\n",
        "# Capture a photo\n",
        "filename = take_photo()\n",
        "\n",
        "# Load the photo\n",
        "image = cv2.imread(filename)\n",
        "\n",
        "# Preprocess the image\n",
        "image = cv2.resize(image, (224, 224), interpolation=cv2.INTER_AREA)\n",
        "image = np.asarray(image, dtype=np.float32).reshape(1, 224, 224, 3)\n",
        "image = (image / 127.5) - 1\n",
        "\n",
        "# Make a prediction\n",
        "prediction = model.predict(image)\n",
        "index = np.argmax(prediction)\n",
        "class_name = class_names[index]\n",
        "confidence_score = prediction[0][index]\n",
        "\n",
        "# Print the result\n",
        "print(f\"Class: {class_name[2:].strip()}\\nConfidence Score: {np.round(confidence_score * 100, 2)}%\")\n"
      ],
      "metadata": {
        "colab": {
          "base_uri": "https://localhost:8080/",
          "height": 71
        },
        "id": "TQjY2cQ5nw63",
        "outputId": "b8cc7263-655b-4899-801f-a2417320a805"
      },
      "execution_count": null,
      "outputs": [
        {
          "output_type": "display_data",
          "data": {
            "text/plain": [
              "<IPython.core.display.Javascript object>"
            ],
            "application/javascript": [
              "\n",
              "    async function takePhoto(quality) {\n",
              "      const div = document.createElement('div');\n",
              "      const capture = document.createElement('button');\n",
              "      capture.textContent = 'Capture';\n",
              "      div.appendChild(capture);\n",
              "\n",
              "      const video = document.createElement('video');\n",
              "      video.style.display = 'block';\n",
              "      const stream = await navigator.mediaDevices.getUserMedia({video: true});\n",
              "\n",
              "      document.body.appendChild(div);\n",
              "      div.appendChild(video);\n",
              "      video.srcObject = stream;\n",
              "      await video.play();\n",
              "\n",
              "      // Resize the output to fit the video element.\n",
              "      google.colab.output.setIframeHeight(document.documentElement.scrollHeight, true);\n",
              "\n",
              "      // Wait for Capture to be clicked.\n",
              "      await new Promise((resolve) => capture.onclick = resolve);\n",
              "\n",
              "      const canvas = document.createElement('canvas');\n",
              "      canvas.width = video.videoWidth;\n",
              "      canvas.height = video.videoHeight;\n",
              "      canvas.getContext('2d').drawImage(video, 0, 0);\n",
              "      stream.getVideoTracks()[0].stop();\n",
              "      div.remove();\n",
              "      return canvas.toDataURL('image/jpeg', quality);\n",
              "    }\n",
              "    "
            ]
          },
          "metadata": {}
        },
        {
          "output_type": "stream",
          "name": "stdout",
          "text": [
            "1/1 [==============================] - 1s 947ms/step\n",
            "Class: scissor\n",
            "Confidence Score: 97.62%\n"
          ]
        }
      ]
    },
    {
      "cell_type": "code",
      "source": [
        "from keras.models import load_model\n",
        "import cv2\n",
        "import numpy as np\n",
        "\n",
        "# Disable scientific notation for clarity\n",
        "np.set_printoptions(suppress=True)\n",
        "\n",
        "# Load the model\n",
        "model = load_model(\"/content/keras_model.h5\", compile=False)\n",
        "\n",
        "# Load the labels\n",
        "class_names = open(\"/content/labels.txt\", \"r\").readlines()\n",
        "\n",
        "# Load the video file (replace 'path_to_your_video.mp4' with your video file path)\n",
        "video_path = \"/content/path_to_your_video.mp4\"\n",
        "video = cv2.VideoCapture(video_path)\n",
        "\n",
        "while video.isOpened():\n",
        "    ret, frame = video.read()\n",
        "\n",
        "    # If there's a frame to process\n",
        "    if ret:\n",
        "        # Resize the raw frame into (224-height,224-width) pixels\n",
        "        resized_frame = cv2.resize(frame, (224, 224), interpolation=cv2.INTER_AREA)\n",
        "\n",
        "        # Make the frame a numpy array and reshape it to the model's input shape.\n",
        "        image_array = np.asarray(resized_frame, dtype=np.float32).reshape(1, 224, 224, 3)\n",
        "\n",
        "        # Normalize the image array\n",
        "        image_array = (image_array / 127.5) - 1\n",
        "\n",
        "        # Predict the model\n",
        "        prediction = model.predict(image_array)\n",
        "        index = np.argmax(prediction)\n",
        "        class_name = class_names[index].strip()\n",
        "        confidence_score = prediction[0][index]\n",
        "\n",
        "        # Print prediction and confidence score\n",
        "        print(\"Class:\", class_name, \"Confidence Score:\", np.round(confidence_score * 100, 2), \"%\")\n",
        "\n",
        "        # Optionally, display the frame (disabled in Colab, but code included for completeness)\n",
        "        # cv2.imshow(\"Frame\", resized_frame)\n",
        "\n",
        "        # Listen to the keyboard for a break (disabled in Colab, but code included for completeness)\n",
        "        # if cv2.waitKey(1) & 0xFF == ord('q'):\n",
        "        #     break\n",
        "    else:\n",
        "        break\n",
        "\n",
        "# Release the video and close all OpenCV windows\n",
        "video.release()\n",
        "cv2.destroyAllWindows()\n"
      ],
      "metadata": {
        "id": "9WS9QNgtq9y0"
      },
      "execution_count": null,
      "outputs": []
    },
    {
      "cell_type": "code",
      "source": [
        "from keras.models import load_model\n",
        "import cv2\n",
        "import numpy as np\n",
        "\n",
        "# 모델과 라벨 로드\n",
        "model = load_model(\"/content/keras_model.h5\", compile=False)\n",
        "class_names = open(\"/content/labels.txt\", \"r\").readlines()\n",
        "\n",
        "# 비디오 파일 로드 (여러분의 비디오 파일 경로로 대체)\n",
        "video_path = \"/content/your_video.mp4\"\n",
        "video = cv2.VideoCapture(video_path)\n",
        "\n",
        "# 비디오의 FPS(초당 프레임 수)를 확인하여 처리할 프레임 수 계산\n",
        "fps = int(video.get(cv2.CAP_PROP_FPS))\n",
        "total_frames = int(video.get(cv2.CAP_PROP_FRAME_COUNT))\n",
        "duration = total_frames / fps\n",
        "\n",
        "print(f\"FPS: {fps}\")\n",
        "print(f\"Total Frames: {total_frames}\")\n",
        "print(f\"Duration: {duration}s\")\n",
        "\n",
        "# 비디오 처리\n",
        "while video.isOpened():\n",
        "    ret, frame = video.read()\n",
        "\n",
        "    # 프레임을 성공적으로 읽었다면\n",
        "    if ret:\n",
        "        # 프레임 크기 조정 및 전처리\n",
        "        frame = cv2.resize(frame, (224, 224))\n",
        "        frame = np.expand_dims(frame, axis=0)\n",
        "        frame = (frame / 127.5) - 1\n",
        "\n",
        "        # 모델 예측\n",
        "        predictions = model.predict(frame)\n",
        "        predicted_class = np.argmax(predictions[0])\n",
        "        confidence = np.max(predictions[0])\n",
        "\n",
        "        # 결과 출력\n",
        "        print(f\"Predicted Class: {class_names[predicted_class].strip()}, Confidence: {confidence:.2f}\")\n",
        "    else:\n",
        "        break\n",
        "\n",
        "# 자원 해제\n",
        "video.release()\n"
      ],
      "metadata": {
        "id": "nLH8wfApsuSc"
      },
      "execution_count": null,
      "outputs": []
    }
  ]
}